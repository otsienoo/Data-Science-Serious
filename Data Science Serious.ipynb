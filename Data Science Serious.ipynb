{
 "cells": [
  {
   "cell_type": "code",
   "execution_count": 1,
   "metadata": {},
   "outputs": [
    {
     "name": "stdout",
     "output_type": "stream",
     "text": [
      "[80, 85, 90, 95, 100, 105, 110, 115, 120, 125]\n"
     ]
    }
   ],
   "source": [
    "Array = [80, 85, 90, 95, 100, 105, 110, 115, 120, 125]\n",
    "print(Array)"
   ]
  },
  {
   "cell_type": "code",
   "execution_count": 2,
   "metadata": {},
   "outputs": [],
   "source": [
    "# Creating data frame using pandas library\n",
    "import pandas as pd\n"
   ]
  },
  {
   "cell_type": "code",
   "execution_count": 3,
   "metadata": {},
   "outputs": [],
   "source": [
    "#  a data frame with 3 columns and 5 rows with fictional numbers:\n",
    "colli = {'col1' : [1,2,3,4,5], 'col2' : [5,6,3,4,7], 'col3' : [6,7,8,9,5]}\n",
    "df = pd.DataFrame(data=colli)"
   ]
  },
  {
   "cell_type": "code",
   "execution_count": 6,
   "metadata": {},
   "outputs": [
    {
     "name": "stdout",
     "output_type": "stream",
     "text": [
      "   col1  col2  col3\n",
      "0     1     4     7\n",
      "1     2     5     8\n",
      "2     3     6    12\n",
      "3     4     9     1\n",
      "4     7     5    11\n"
     ]
    }
   ],
   "source": [
    "print(df)"
   ]
  },
  {
   "cell_type": "code",
   "execution_count": 5,
   "metadata": {},
   "outputs": [
    {
     "name": "stdout",
     "output_type": "stream",
     "text": [
      "   col1  col2  col3\n",
      "0     1     4     7\n",
      "1     2     5     8\n",
      "2     3     6    12\n",
      "3     4     9     1\n",
      "4     7     5    11\n"
     ]
    }
   ],
   "source": [
    "import pandas as pd\n",
    "\n",
    "d = {'col1': [1, 2, 3, 4, 7], 'col2': [4, 5, 6, 9, 5], 'col3': [7, 8, 12, 1, 11]}\n",
    "\n",
    "df = pd.DataFrame(data=d)\n",
    "\n",
    "print(df)"
   ]
  },
  {
   "cell_type": "code",
   "execution_count": 7,
   "metadata": {},
   "outputs": [
    {
     "name": "stdout",
     "output_type": "stream",
     "text": [
      "3\n"
     ]
    }
   ],
   "source": [
    "count_column = df.shape[1]\n",
    "print(count_column)"
   ]
  },
  {
   "cell_type": "code",
   "execution_count": 8,
   "metadata": {},
   "outputs": [
    {
     "name": "stdout",
     "output_type": "stream",
     "text": [
      "5\n"
     ]
    }
   ],
   "source": [
    "count_row = df.shape[0]\n",
    "print(count_row)"
   ]
  },
  {
   "cell_type": "code",
   "execution_count": 11,
   "metadata": {},
   "outputs": [
    {
     "name": "stdout",
     "output_type": "stream",
     "text": [
      "   Duration  Average_Pulse  Max_Pulse  Calorie_Burnage  Hours_Work  \\\n",
      "0        30             80        120              240          10   \n",
      "1        30             85        120              250          10   \n",
      "2        45             90        130              260           8   \n",
      "3        45             95        130              270           8   \n",
      "4        45            100        140              280           0   \n",
      "5        60            105        140              290           7   \n",
      "6        60            110        145              300           8   \n",
      "7        60            110        145              310           0   \n",
      "8        75            115        150              320           8   \n",
      "9        75            120        150              330           8   \n",
      "\n",
      "   Hours_Sleep  \n",
      "0            7  \n",
      "1            7  \n",
      "2            7  \n",
      "3            7  \n",
      "4            7  \n",
      "5            8  \n",
      "6            8  \n",
      "7            8  \n",
      "8            8  \n",
      "9            8  \n"
     ]
    }
   ],
   "source": [
    "import pandas as pd\n",
    "\n",
    "sports_watch = {\n",
    "    'Duration': [30, 30, 45, 45, 45, 60, 60, 60, 75, 75],\n",
    "    'Average_Pulse': [80, 85, 90, 95, 100, 105, 110, 110, 115, 120],\n",
    "    'Max_Pulse': [120, 120, 130, 130, 140, 140, 145, 145, 150, 150],\n",
    "    'Calorie_Burnage': [240, 250, 260, 270, 280, 290, 300, 310, 320, 330],\n",
    "    'Hours_Work': [10, 10, 8, 8, 0, 7, 8, 0, 8, 8],\n",
    "    'Hours_Sleep': [7, 7, 7, 7, 7, 8, 8, 8, 8, 8]\n",
    "}\n",
    "\n",
    "df = pd.DataFrame(data=sports_watch)\n",
    "print(df)\n"
   ]
  },
  {
   "cell_type": "code",
   "execution_count": 12,
   "metadata": {},
   "outputs": [],
   "source": [
    "import numpy as np"
   ]
  },
  {
   "cell_type": "code",
   "execution_count": 16,
   "metadata": {},
   "outputs": [
    {
     "name": "stdout",
     "output_type": "stream",
     "text": [
      "285.0\n"
     ]
    }
   ],
   "source": [
    "# Calculate the average of the Calorie_Burnage column\n",
    "Average_calorie_burnage = np.mean(df['Calorie_Burnage'])\n",
    "\n",
    "# Print the result\n",
    "print(Average_calorie_burnage)"
   ]
  },
  {
   "cell_type": "code",
   "execution_count": 17,
   "metadata": {},
   "outputs": [
    {
     "name": "stdout",
     "output_type": "stream",
     "text": [
      "150\n"
     ]
    }
   ],
   "source": [
    "# Calculate the maximum of the Max_Pulse column\n",
    "Maximum_pulse = df['Max_Pulse'].max()\n",
    "\n",
    "# Print the result\n",
    "print(Maximum_pulse)\n"
   ]
  },
  {
   "cell_type": "code",
   "execution_count": 19,
   "metadata": {},
   "outputs": [
    {
     "name": "stdout",
     "output_type": "stream",
     "text": [
      "120\n"
     ]
    }
   ],
   "source": [
    "# Calculate the maximum of the Max_Pulse column\n",
    "Minimum_pulse = df['Max_Pulse'].min()\n",
    "\n",
    "# Print the result\n",
    "print(Minimum_pulse)\n"
   ]
  },
  {
   "cell_type": "code",
   "execution_count": null,
   "metadata": {},
   "outputs": [],
   "source": []
  }
 ],
 "metadata": {
  "kernelspec": {
   "display_name": "Python 3",
   "language": "python",
   "name": "python3"
  },
  "language_info": {
   "codemirror_mode": {
    "name": "ipython",
    "version": 3
   },
   "file_extension": ".py",
   "mimetype": "text/x-python",
   "name": "python",
   "nbconvert_exporter": "python",
   "pygments_lexer": "ipython3",
   "version": "3.7.4"
  }
 },
 "nbformat": 4,
 "nbformat_minor": 2
}
